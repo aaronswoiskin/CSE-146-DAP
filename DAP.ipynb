{
 "cells": [
  {
   "cell_type": "code",
   "execution_count": 1,
   "metadata": {},
   "outputs": [],
   "source": [
    "## Setup a classification experiment\n",
    "\n",
    "import pandas as pd\n",
    "from sklearn.model_selection import train_test_split\n",
    "\n",
    "df = pd.read_csv(\n",
    "    'processed.cleveland.data',\n",
    "    header=None)\n",
    "df.columns = [\n",
    "    \"age\",\"sex\",\"cp\",\"trestbps\",\"chol\",\"fbs\",\"restecg\",\"thalach\",\"exang\",\n",
    "    \"oldpeak\",\"slope\",\"ca\",\"thal\",\"disease\"\n",
    "]\n",
    "#df = df.sample(frac=0.1, random_state=1)\n",
    "train_cols = df.columns[0:-1]\n",
    "label = df.columns[-1]\n",
    "X = df[train_cols]\n",
    "y = df[label].apply(lambda x: 0 if x == 0 else 1) #Turning response into 0 and 1\n",
    "\n",
    "seed = 1\n",
    "\n",
    "Xf = X.loc[X['sex']==0]\n",
    "Xm = X.loc[X['sex']==1]\n",
    "\n",
    "yf = y.loc[X['sex']==0]\n",
    "ym = y.loc[X['sex']==1]\n",
    "\n",
    "Xf_train, Xf_test, yf_train, yf_test = train_test_split(Xf, yf, test_size=0.20, random_state=seed)\n",
    "Xm_train, Xm_test, ym_train, ym_test = train_test_split(Xm, ym, test_size=0.20, random_state=seed)"
   ]
  },
  {
   "cell_type": "code",
   "execution_count": 13,
   "metadata": {},
   "outputs": [
    {
     "data": {
      "text/html": [
       "<!-- http://127.0.0.1:7001/2845635644000/ -->\n",
       "<iframe src=\"http://127.0.0.1:7001/2845635644000/\" width=100% height=800 frameBorder=\"0\"></iframe>"
      ]
     },
     "metadata": {},
     "output_type": "display_data"
    },
    {
     "data": {
      "text/html": [
       "<!-- http://127.0.0.1:7001/2845638462192/ -->\n",
       "<iframe src=\"http://127.0.0.1:7001/2845638462192/\" width=100% height=800 frameBorder=\"0\"></iframe>"
      ]
     },
     "metadata": {},
     "output_type": "display_data"
    }
   ],
   "source": [
    "## Explore the dataset\n",
    "\n",
    "from interpret import show\n",
    "from interpret.data import ClassHistogram\n",
    "from interpret.perf import ROC\n",
    "\n",
    "histf = ClassHistogram().explain_data(Xf_train, yf_train, name = 'Train Data f')\n",
    "show(histf)\n",
    "\n",
    "histm = ClassHistogram().explain_data(Xm_train, ym_train, name = 'Train Data m')\n",
    "show(histm)"
   ]
  },
  {
   "cell_type": "code",
   "execution_count": 3,
   "metadata": {},
   "outputs": [
    {
     "data": {
      "text/plain": [
       "ExplainableBoostingClassifier(feature_names=['age', 'sex', 'cp', 'trestbps',\n",
       "                                             'chol', 'fbs', 'restecg',\n",
       "                                             'thalach', 'exang', 'oldpeak',\n",
       "                                             'slope', 'ca', 'thal'],\n",
       "                              feature_types=['continuous', 'categorical',\n",
       "                                             'continuous', 'continuous',\n",
       "                                             'continuous', 'categorical',\n",
       "                                             'continuous', 'continuous',\n",
       "                                             'categorical', 'continuous',\n",
       "                                             'continuous', 'categorical',\n",
       "                                             'categorical'],\n",
       "                              random_state=1)"
      ]
     },
     "execution_count": 3,
     "metadata": {},
     "output_type": "execute_result"
    }
   ],
   "source": [
    "## Train the Explainable Boosting Machine (EBM)\n",
    "\n",
    "from interpret.glassbox import ExplainableBoostingClassifier, LogisticRegression, ClassificationTree, DecisionListClassifier\n",
    "\n",
    "ebmf = ExplainableBoostingClassifier(random_state=seed)\n",
    "ebmf.fit(Xf_train, yf_train)   #Works on dataframes and numpy arrays\n",
    "\n",
    "ebmm = ExplainableBoostingClassifier(random_state=seed)\n",
    "ebmm.fit(Xm_train, ym_train)   #Works on dataframes and numpy arrays"
   ]
  },
  {
   "cell_type": "code",
   "execution_count": 4,
   "metadata": {},
   "outputs": [
    {
     "data": {
      "text/html": [
       "<!-- http://127.0.0.1:7001/2845635069216/ -->\n",
       "<iframe src=\"http://127.0.0.1:7001/2845635069216/\" width=100% height=800 frameBorder=\"0\"></iframe>"
      ]
     },
     "metadata": {},
     "output_type": "display_data"
    },
    {
     "data": {
      "text/html": [
       "<!-- http://127.0.0.1:7001/2845634991440/ -->\n",
       "<iframe src=\"http://127.0.0.1:7001/2845634991440/\" width=100% height=800 frameBorder=\"0\"></iframe>"
      ]
     },
     "metadata": {},
     "output_type": "display_data"
    }
   ],
   "source": [
    "## Global Explanations: What the model learned overall\n",
    "\n",
    "ebmf_global = ebmf.explain_global(name='EBM f')\n",
    "show(ebmf_global)\n",
    "\n",
    "ebmm_global = ebmm.explain_global(name='EBM m')\n",
    "show(ebmm_global)"
   ]
  },
  {
   "cell_type": "code",
   "execution_count": 5,
   "metadata": {
    "scrolled": true
   },
   "outputs": [
    {
     "data": {
      "text/html": [
       "<!-- http://127.0.0.1:7001/2847316816560/ -->\n",
       "<iframe src=\"http://127.0.0.1:7001/2847316816560/\" width=100% height=800 frameBorder=\"0\"></iframe>"
      ]
     },
     "metadata": {},
     "output_type": "display_data"
    },
    {
     "data": {
      "text/html": [
       "<!-- http://127.0.0.1:7001/2845635645248/ -->\n",
       "<iframe src=\"http://127.0.0.1:7001/2845635645248/\" width=100% height=800 frameBorder=\"0\"></iframe>"
      ]
     },
     "metadata": {},
     "output_type": "display_data"
    }
   ],
   "source": [
    "## Local Explanations: How an individual prediction was made\n",
    "\n",
    "ebmf_local = ebmf.explain_local(Xf_test[:5], yf_test[:5], name='EBM f')\n",
    "show(ebmf_local)\n",
    "\n",
    "ebmm_local = ebmm.explain_local(Xm_test[:5], ym_test[:5], name='EBM m')\n",
    "show(ebmm_local)"
   ]
  },
  {
   "cell_type": "code",
   "execution_count": 11,
   "metadata": {},
   "outputs": [
    {
     "data": {
      "text/html": [
       "<!-- http://127.0.0.1:7001/2845637931456/ -->\n",
       "<iframe src=\"http://127.0.0.1:7001/2845637931456/\" width=100% height=800 frameBorder=\"0\"></iframe>"
      ]
     },
     "metadata": {},
     "output_type": "display_data"
    },
    {
     "data": {
      "text/html": [
       "<!-- http://127.0.0.1:7001/2845635054848/ -->\n",
       "<iframe src=\"http://127.0.0.1:7001/2845635054848/\" width=100% height=800 frameBorder=\"0\"></iframe>"
      ]
     },
     "metadata": {},
     "output_type": "display_data"
    }
   ],
   "source": [
    "from interpret.glassbox import LogisticRegression, ClassificationTree\n",
    "\n",
    "# We have to transform categorical variables to use Logistic Regression and Decision Tree\n",
    "Xf_enc = pd.get_dummies(Xf, prefix_sep='.')\n",
    "Xm_enc = pd.get_dummies(Xm, prefix_sep='.')\n",
    "feature_namesf = list(Xf_enc.columns)\n",
    "feature_namesm = list(Xm_enc.columns)\n",
    "Xf_train_enc, Xf_test_enc, yf_train, yf_test = train_test_split(Xf_enc, yf, test_size=0.20, random_state=seed)\n",
    "Xm_train_enc, Xm_test_enc, ym_train, ym_test = train_test_split(Xm_enc, ym, test_size=0.20, random_state=seed)\n",
    "\n",
    "lrf = LogisticRegression(random_state=seed, feature_names=feature_namesf, penalty='l1', solver='liblinear')\n",
    "lrm = LogisticRegression(random_state=seed, feature_names=feature_namesm, penalty='l1', solver='liblinear')\n",
    "lrf.fit(Xf_train_enc, yf_train)\n",
    "lrm.fit(Xm_train_enc, ym_train)\n",
    "\n",
    "treef = ClassificationTree()\n",
    "treem = ClassificationTree()\n",
    "treef.fit(Xf_train_enc, yf_train)\n",
    "treem.fit(Xm_train_enc, ym_train)\n",
    "\n",
    "treef_global = treef.explain_global(name='Classification Tree f')\n",
    "treem_global = treem.explain_global(name='Classification Tree m')\n",
    "\n",
    "show(treef_global)\n",
    "show(treem_global)"
   ]
  },
  {
   "cell_type": "code",
   "execution_count": 16,
   "metadata": {},
   "outputs": [
    {
     "data": {
      "text/html": [
       "<!-- http://127.0.0.1:7001/2845637687472/ -->\n",
       "<iframe src=\"http://127.0.0.1:7001/2845637687472/\" width=100% height=800 frameBorder=\"0\"></iframe>"
      ]
     },
     "metadata": {},
     "output_type": "display_data"
    },
    {
     "data": {
      "text/html": [
       "<!-- http://127.0.0.1:7001/2845628054016/ -->\n",
       "<iframe src=\"http://127.0.0.1:7001/2845628054016/\" width=100% height=800 frameBorder=\"0\"></iframe>"
      ]
     },
     "metadata": {},
     "output_type": "display_data"
    },
    {
     "data": {
      "text/html": [
       "<!-- http://127.0.0.1:7001/2845634993648/ -->\n",
       "<iframe src=\"http://127.0.0.1:7001/2845634993648/\" width=100% height=800 frameBorder=\"0\"></iframe>"
      ]
     },
     "metadata": {},
     "output_type": "display_data"
    },
    {
     "data": {
      "text/html": [
       "<!-- http://127.0.0.1:7001/2845634993120/ -->\n",
       "<iframe src=\"http://127.0.0.1:7001/2845634993120/\" width=100% height=800 frameBorder=\"0\"></iframe>"
      ]
     },
     "metadata": {},
     "output_type": "display_data"
    }
   ],
   "source": [
    "lrf_perf = ROC(lrf.predict_proba).explain_perf(Xf_test_enc, yf_test, name='Logistic Regression f')\n",
    "lrm_perm = ROC(lrm.predict_proba).explain_perf(Xm_test_enc, ym_test, name='Logistic Regression m')\n",
    "treef_perf = ROC(treef.predict_proba).explain_perf(Xf_test_enc, yf_test, name='Classification Tree f')\n",
    "treem_perm = ROC(treem.predict_proba).explain_perf(Xm_test_enc, ym_test, name='Classification Tree m')\n",
    "\n",
    "show(lrf_perf)\n",
    "show(lrm_perm)\n",
    "show(treef_perf)\n",
    "show(treem_perm)"
   ]
  },
  {
   "cell_type": "code",
   "execution_count": null,
   "metadata": {},
   "outputs": [],
   "source": []
  }
 ],
 "metadata": {
  "kernelspec": {
   "display_name": "Python 3",
   "language": "python",
   "name": "python3"
  },
  "language_info": {
   "codemirror_mode": {
    "name": "ipython",
    "version": 3
   },
   "file_extension": ".py",
   "mimetype": "text/x-python",
   "name": "python",
   "nbconvert_exporter": "python",
   "pygments_lexer": "ipython3",
   "version": "3.8.3"
  }
 },
 "nbformat": 4,
 "nbformat_minor": 4
}
